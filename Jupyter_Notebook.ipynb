{
 "cells": [
  {
   "cell_type": "markdown",
   "metadata": {},
   "source": [
    "<center>\n",
    "    <img src=\"https://cf-courses-data.s3.us.cloud-object-storage.appdomain.cloud/IBMDeveloperSkillsNetwork-DS0105EN-SkillsNetwork/labs/Module2/images/SN_web_lightmode.png\" width=\"300\" alt=\"cognitiveclass.ai logo\">\n",
    "</center>\n"
   ]
  },
  {
   "cell_type": "markdown",
   "metadata": {
    "tags": []
   },
   "source": [
    "#### Add your code below following the instructions given in the course\n"
   ]
  },
  {
   "cell_type": "markdown",
   "metadata": {},
   "source": [
    "# Graded Assignment - Tools for Data Science"
   ]
  },
  {
   "cell_type": "markdown",
   "metadata": {},
   "source": [
    "### Introduction\n",
    "This Jupyter notebook will serve as my assignment to be submitted for peer review. There are a total of ~13 exercises, each of which will either answer a topic question or showcase  \\\n",
    "python skills that are typically utilized day-to-day for a practicing Data Scientist.\n",
    "\n",
    "See below for the remainder of the assignment."
   ]
  },
  {
   "cell_type": "markdown",
   "metadata": {},
   "source": [
    "### List of Data Science Languages\n",
    "1. Python\n",
    "2. R\n",
    "3. SQL\n",
    "4. C++\n",
    "5. Julia\n",
    "6. Scala\n",
    "7. Go\n",
    "8. etc."
   ]
  },
  {
   "cell_type": "markdown",
   "metadata": {},
   "source": [
    "### List of Data Science Tools\n",
    "1. Data Management Tools\n",
    "    * MySQL\n",
    "    * PostgreSQL\n",
    "    * MongoDB\n",
    "    * Apache \n",
    "    * CouchDB\n",
    "2. Data integration and transformation Tools\n",
    "    * Apache AirFlow\n",
    "    * KubeFlow\n",
    "    * Apache Kafka\n",
    "    * Apache Nifi\n",
    "    * Apache SparkSQL\n",
    "3. Data Visualization Tools are \n",
    "    * Pixie Dust\n",
    "    * Hue\n",
    "    * Kibana\n",
    "    * Apache Superset\n",
    "4. Model deployment tools \n",
    "    * Apache PredictionIO\n",
    "    * Seldon\n",
    "    * Kubernetes\n",
    "    * Redhat OpenShift\n",
    "    * Mleap\n",
    "    * TensorFlow service\n",
    "5. Model monitoring Tools \n",
    "    * ModelDB\n",
    "    * Prometheus\n",
    "    * IBM AI Fairness 360\n",
    "    * IBM Adversarial Robustness 360 Toolbox\n",
    "    * IBM AI Explainability 360\n",
    "    \n",
    "There are a number of various other DS tools that are highlighted here."
   ]
  },
  {
   "cell_type": "markdown",
   "metadata": {},
   "source": [
    "### Arightmetic Expression Examples"
   ]
  },
  {
   "cell_type": "code",
   "execution_count": 1,
   "metadata": {},
   "outputs": [
    {
     "data": {
      "text/plain": [
       "11"
      ]
     },
     "execution_count": 1,
     "metadata": {},
     "output_type": "execute_result"
    }
   ],
   "source": [
    "5 + 6"
   ]
  },
  {
   "cell_type": "code",
   "execution_count": 5,
   "metadata": {},
   "outputs": [
    {
     "data": {
      "text/plain": [
       "10233.44108889"
      ]
     },
     "execution_count": 5,
     "metadata": {},
     "output_type": "execute_result"
    }
   ],
   "source": [
    "x = 100\n",
    "y = 0.3333\n",
    "z = x**2 + 2 * x + y * x + y ** 2\n",
    "z"
   ]
  },
  {
   "cell_type": "code",
   "execution_count": 3,
   "metadata": {},
   "outputs": [
    {
     "data": {
      "text/plain": [
       "0"
      ]
     },
     "execution_count": 3,
     "metadata": {},
     "output_type": "execute_result"
    }
   ],
   "source": [
    "10 % 2"
   ]
  },
  {
   "cell_type": "code",
   "execution_count": 4,
   "metadata": {},
   "outputs": [
    {
     "data": {
      "text/plain": [
       "101.0"
      ]
     },
     "execution_count": 4,
     "metadata": {},
     "output_type": "execute_result"
    }
   ],
   "source": [
    "(6 - 3) * 2 / 6 + 100"
   ]
  },
  {
   "cell_type": "markdown",
   "metadata": {},
   "source": [
    "### Multiply and Adding Numbers"
   ]
  },
  {
   "cell_type": "code",
   "execution_count": 6,
   "metadata": {},
   "outputs": [
    {
     "data": {
      "text/plain": [
       "54"
      ]
     },
     "execution_count": 6,
     "metadata": {},
     "output_type": "execute_result"
    }
   ],
   "source": [
    "6 * 9"
   ]
  },
  {
   "cell_type": "code",
   "execution_count": 7,
   "metadata": {},
   "outputs": [
    {
     "data": {
      "text/plain": [
       "150"
      ]
     },
     "execution_count": 7,
     "metadata": {},
     "output_type": "execute_result"
    }
   ],
   "source": [
    "7 + 143"
   ]
  },
  {
   "cell_type": "code",
   "execution_count": 8,
   "metadata": {},
   "outputs": [
    {
     "data": {
      "text/plain": [
       "60093"
      ]
     },
     "execution_count": 8,
     "metadata": {},
     "output_type": "execute_result"
    }
   ],
   "source": [
    "8 * 8 + 29 + 6 * 10000"
   ]
  },
  {
   "cell_type": "markdown",
   "metadata": {},
   "source": [
    "### Convert minutes to hours"
   ]
  },
  {
   "cell_type": "code",
   "execution_count": 14,
   "metadata": {},
   "outputs": [
    {
     "name": "stdout",
     "output_type": "stream",
     "text": [
      "Number of minutes: 60 min\n",
      "Converted minutes to hours: 1.0 hr\n"
     ]
    }
   ],
   "source": [
    "# To convert minutes to hours - 60 minutes in 1 hour. Essentially it is the ratio of minutes / 60 minutes = 1 hr\n",
    "minutes = 60 \n",
    "conversion = 60 # 60 minutes for 1 hr\n",
    "hours = minutes / conversion\n",
    "print(f'Number of minutes: {minutes} min')\n",
    "print(f'Converted minutes to hours: {hours} hr')"
   ]
  },
  {
   "cell_type": "code",
   "execution_count": 15,
   "metadata": {},
   "outputs": [
    {
     "name": "stdout",
     "output_type": "stream",
     "text": [
      "Number of minutes: 180 min\n",
      "Converted minutes to hours: 3.0 hr\n"
     ]
    }
   ],
   "source": [
    "minutes = 180 # Duration of a random movie\n",
    "hours = minutes / conversion\n",
    "print(f'Number of minutes: {minutes} min')\n",
    "print(f'Converted minutes to hours: {hours} hr')"
   ]
  },
  {
   "cell_type": "markdown",
   "metadata": {},
   "source": [
    "### Objectives\n",
    "1. Rule the world\n",
    "2. Make and eat the perfect grilled cheese\n",
    "3. Hold 1000 USD in 1 dollar bills\n",
    "4. Ask ChatGPT 982509867120981 questions \n",
    "5. Ride a unicycle\n",
    "6. Complete the entire IBM DS Certification \n",
    "7. Untie everyone in the world's sneakers\n",
    "8. Catch a touchdown pass from Troy Aikman \n",
    "9. Run a marathon blindfolded \n",
    "10. Take off blindfold"
   ]
  },
  {
   "cell_type": "markdown",
   "metadata": {},
   "source": [
    "## Author - Dylan Ogden"
   ]
  },
  {
   "cell_type": "code",
   "execution_count": null,
   "metadata": {},
   "outputs": [],
   "source": []
  }
 ],
 "metadata": {
  "kernelspec": {
   "display_name": "Python",
   "language": "python",
   "name": "conda-env-python-py"
  },
  "language_info": {
   "codemirror_mode": {
    "name": "ipython",
    "version": 3
   },
   "file_extension": ".py",
   "mimetype": "text/x-python",
   "name": "python",
   "nbconvert_exporter": "python",
   "pygments_lexer": "ipython3",
   "version": "3.7.12"
  }
 },
 "nbformat": 4,
 "nbformat_minor": 4
}
